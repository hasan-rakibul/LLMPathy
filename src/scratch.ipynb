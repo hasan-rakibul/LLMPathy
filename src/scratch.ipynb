{
 "cells": [
  {
   "cell_type": "markdown",
   "metadata": {},
   "source": [
    "# Dataset"
   ]
  },
  {
   "cell_type": "code",
   "execution_count": null,
   "metadata": {},
   "outputs": [],
   "source": [
    "import pandas as pd"
   ]
  },
  {
   "cell_type": "code",
   "execution_count": null,
   "metadata": {},
   "outputs": [],
   "source": [
    "data = pd.read_csv('../data/WS22-WS23-augmented-train-gpt.tsv', sep='\\t')"
   ]
  },
  {
   "cell_type": "code",
   "execution_count": null,
   "metadata": {},
   "outputs": [
    {
     "data": {
      "text/plain": [
       "Index(['article_id', 'wrong_empathy', 'distress', 'emotion', 'gender',\n",
       "       'education', 'race', 'age', 'income', 'personality_conscientiousness',\n",
       "       'personality_openess', 'personality_extraversion',\n",
       "       'personality_agreeableness', 'personality_stability',\n",
       "       'iri_perspective_taking', 'iri_personal_distress', 'iri_fantasy',\n",
       "       'iri_empathatic_concern', 'speaker_id', 'demographic_essay', 'article',\n",
       "       'empathy'],\n",
       "      dtype='object')"
      ]
     },
     "metadata": {},
     "output_type": "display_data"
    }
   ],
   "source": [
    "data.columns"
   ]
  },
  {
   "cell_type": "code",
   "execution_count": null,
   "metadata": {},
   "outputs": [
    {
     "data": {
      "text/plain": [
       "Index(['article_id', 'crowdsourced_empathy', 'distress', 'emotion', 'gender',\n",
       "       'education', 'race', 'age', 'income', 'personality_conscientiousness',\n",
       "       'personality_openess', 'personality_extraversion',\n",
       "       'personality_agreeableness', 'personality_stability',\n",
       "       'iri_perspective_taking', 'iri_personal_distress', 'iri_fantasy',\n",
       "       'iri_empathatic_concern', 'speaker_id', 'demographic_essay', 'article',\n",
       "       'gpt_empathy'],\n",
       "      dtype='object')"
      ]
     },
     "metadata": {},
     "output_type": "display_data"
    }
   ],
   "source": [
    "data.rename(columns={'wrong_empathy': 'crowdsourced_empathy', 'empathy': 'gpt_empathy'}, inplace=True)\n",
    "data.columns"
   ]
  },
  {
   "cell_type": "code",
   "execution_count": null,
   "metadata": {},
   "outputs": [],
   "source": [
    "data.to_csv('../data/v2_v3_train_augmented.tsv', sep='\\t', index=False)"
   ]
  },
  {
   "cell_type": "code",
   "execution_count": null,
   "metadata": {},
   "outputs": [
    {
     "data": {
      "text/plain": [
       "(Index(['conversation_id', 'article_id', 'essay', 'speaker_id', 'gender',\n",
       "        'education', 'race', 'age', 'income', 'speaker_number', 'split',\n",
       "        'essay_id', 'demographic', 'demographic_essay', 'article', 'empathy'],\n",
       "       dtype='object'),\n",
       " (208, 16))"
      ]
     },
     "metadata": {},
     "output_type": "display_data"
    }
   ],
   "source": [
    "dev_gpt = pd.read_csv('../../LLM-GEm/data/WS23-dev-gpt.tsv', sep='\\t')\n",
    "dev_gpt.columns, dev_gpt.shape"
   ]
  },
  {
   "cell_type": "code",
   "execution_count": null,
   "metadata": {},
   "outputs": [],
   "source": [
    "dev_gpt.rename(columns={'empathy': 'gpt_empathy'}, inplace=True)"
   ]
  },
  {
   "cell_type": "code",
   "execution_count": null,
   "metadata": {},
   "outputs": [
    {
     "data": {
      "text/plain": [
       "(Index([0, 1, 2, 3, 4, 5, 6, 7, 8, 9, 10, 11], dtype='int64'), (208, 12))"
      ]
     },
     "metadata": {},
     "output_type": "display_data"
    }
   ],
   "source": [
    "dev_original = pd.read_csv('../../LLM-GEm/data/WASSA23/goldstandard_dev.tsv', sep='\\t', header=None)\n",
    "dev_original.columns, dev_original.shape"
   ]
  },
  {
   "cell_type": "code",
   "execution_count": null,
   "metadata": {},
   "outputs": [],
   "source": [
    "dev_gpt['crowdsourced_empathy'] = dev_original[0].to_list()"
   ]
  },
  {
   "cell_type": "code",
   "execution_count": null,
   "metadata": {},
   "outputs": [
    {
     "data": {
      "text/html": [
       "<div>\n",
       "<style scoped>\n",
       "    .dataframe tbody tr th:only-of-type {\n",
       "        vertical-align: middle;\n",
       "    }\n",
       "\n",
       "    .dataframe tbody tr th {\n",
       "        vertical-align: top;\n",
       "    }\n",
       "\n",
       "    .dataframe thead th {\n",
       "        text-align: right;\n",
       "    }\n",
       "</style>\n",
       "<table border=\"1\" class=\"dataframe\">\n",
       "  <thead>\n",
       "    <tr style=\"text-align: right;\">\n",
       "      <th></th>\n",
       "      <th>conversation_id</th>\n",
       "      <th>article_id</th>\n",
       "      <th>essay</th>\n",
       "      <th>speaker_id</th>\n",
       "      <th>gender</th>\n",
       "      <th>education</th>\n",
       "      <th>race</th>\n",
       "      <th>age</th>\n",
       "      <th>income</th>\n",
       "      <th>speaker_number</th>\n",
       "      <th>split</th>\n",
       "      <th>essay_id</th>\n",
       "      <th>demographic</th>\n",
       "      <th>demographic_essay</th>\n",
       "      <th>article</th>\n",
       "      <th>gpt_empathy</th>\n",
       "      <th>crowdsourced_empathy</th>\n",
       "    </tr>\n",
       "  </thead>\n",
       "  <tbody>\n",
       "    <tr>\n",
       "      <th>0</th>\n",
       "      <td>1</td>\n",
       "      <td>35</td>\n",
       "      <td>How sad is it that this kind of pain and suffe...</td>\n",
       "      <td>68</td>\n",
       "      <td>2</td>\n",
       "      <td>2</td>\n",
       "      <td>1</td>\n",
       "      <td>21</td>\n",
       "      <td>20000</td>\n",
       "      <td>1</td>\n",
       "      <td>dev</td>\n",
       "      <td>0</td>\n",
       "      <td>I am a 21-year-old female of the White race. I...</td>\n",
       "      <td>I am a 21-year-old female of the White race. I...</td>\n",
       "      <td>A month after Hurricane Matthew hit southweste...</td>\n",
       "      <td>6.2</td>\n",
       "      <td>3.833333</td>\n",
       "    </tr>\n",
       "    <tr>\n",
       "      <th>1</th>\n",
       "      <td>4</td>\n",
       "      <td>35</td>\n",
       "      <td>The article is kind of tragic and hits close t...</td>\n",
       "      <td>79</td>\n",
       "      <td>1</td>\n",
       "      <td>6</td>\n",
       "      <td>3</td>\n",
       "      <td>33</td>\n",
       "      <td>64000</td>\n",
       "      <td>1</td>\n",
       "      <td>dev</td>\n",
       "      <td>3</td>\n",
       "      <td>I am a 33-year-old male of the Black or Africa...</td>\n",
       "      <td>I am a 33-year-old male of the Black or Africa...</td>\n",
       "      <td>A month after Hurricane Matthew hit southweste...</td>\n",
       "      <td>6.5</td>\n",
       "      <td>3.000000</td>\n",
       "    </tr>\n",
       "  </tbody>\n",
       "</table>\n",
       "</div>"
      ],
      "text/plain": [
       "   conversation_id  article_id  \\\n",
       "0                1          35   \n",
       "1                4          35   \n",
       "\n",
       "                                               essay  speaker_id  gender  \\\n",
       "0  How sad is it that this kind of pain and suffe...          68       2   \n",
       "1  The article is kind of tragic and hits close t...          79       1   \n",
       "\n",
       "   education  race  age  income  speaker_number split  essay_id  \\\n",
       "0          2     1   21   20000               1   dev         0   \n",
       "1          6     3   33   64000               1   dev         3   \n",
       "\n",
       "                                         demographic  \\\n",
       "0  I am a 21-year-old female of the White race. I...   \n",
       "1  I am a 33-year-old male of the Black or Africa...   \n",
       "\n",
       "                                   demographic_essay  \\\n",
       "0  I am a 21-year-old female of the White race. I...   \n",
       "1  I am a 33-year-old male of the Black or Africa...   \n",
       "\n",
       "                                             article  gpt_empathy  \\\n",
       "0  A month after Hurricane Matthew hit southweste...          6.2   \n",
       "1  A month after Hurricane Matthew hit southweste...          6.5   \n",
       "\n",
       "   crowdsourced_empathy  \n",
       "0              3.833333  \n",
       "1              3.000000  "
      ]
     },
     "metadata": {},
     "output_type": "display_data"
    }
   ],
   "source": [
    "dev_gpt.head(2)"
   ]
  },
  {
   "cell_type": "code",
   "execution_count": null,
   "metadata": {},
   "outputs": [],
   "source": [
    "dev_gpt.to_csv('../data/v3_dev_gpt.tsv', sep='\\t', index=False)"
   ]
  },
  {
   "cell_type": "code",
   "execution_count": null,
   "metadata": {},
   "outputs": [],
   "source": []
  }
 ],
 "metadata": {
  "kernelspec": {
   "display_name": ".LLMPathy",
   "language": "python",
   "name": "python3"
  },
  "language_info": {
   "codemirror_mode": {
    "name": "ipython",
    "version": 3
   },
   "file_extension": ".py",
   "mimetype": "text/x-python",
   "name": "python",
   "nbconvert_exporter": "python",
   "pygments_lexer": "ipython3",
   "version": "3.12.1"
  }
 },
 "nbformat": 4,
 "nbformat_minor": 2
}
