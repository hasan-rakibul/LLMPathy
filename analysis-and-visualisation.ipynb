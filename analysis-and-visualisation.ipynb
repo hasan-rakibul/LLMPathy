{
 "cells": [
  {
   "cell_type": "code",
   "execution_count": 1,
   "metadata": {},
   "outputs": [],
   "source": [
    "import os\n",
    "import pandas as pd\n",
    "import glob\n",
    "import matplotlib.pyplot as plt\n",
    "import scienceplots\n",
    "plt.style.use(['science', 'ieee', 'tableau-colorblind10'])"
   ]
  },
  {
   "cell_type": "code",
   "execution_count": 2,
   "metadata": {},
   "outputs": [],
   "source": [
    "def plot_metrics_vs_alpha(parend_dir: str) -> None:\n",
    "    glob_str = f\"{parend_dir}/**/results.csv\"\n",
    "    result_csvs = glob.glob(glob_str, recursive=True)\n",
    "    result_csvs = sorted(result_csvs)\n",
    "\n",
    "    all_df = pd.DataFrame()\n",
    "    for csv in result_csvs:\n",
    "        df = pd.read_csv(csv, index_col=0)\n",
    "        df[\"alpha\"] = csv.split(\"/\")[-2].split(\"_\")[-1]\n",
    "        all_df = pd.concat([all_df, df])\n",
    "    \n",
    "    mean_df = all_df[all_df.index.str.contains(\"mean\")]\n",
    "    std_df = all_df[all_df.index.str.contains(\"std\")]\n",
    "    \n",
    "    mean_df = mean_df.set_index(\"alpha\")\n",
    "    std_df = std_df.set_index(\"alpha\")\n",
    "    _, ax = plt.subplots(figsize=(5, 3))\n",
    "\n",
    "    lines = []\n",
    "    x = mean_df.index\n",
    "    for col in mean_df.columns:\n",
    "        y = mean_df[col]\n",
    "        std = std_df[col]\n",
    "        if col in [\"val_pcc\", \"val_ccc\"]:\n",
    "            lines.append(ax.plot(x, y, label=col))\n",
    "            # Plot the shaded area representing the standard deviations\n",
    "            _ = ax.fill_between(x, y - std, y + std, alpha=0.3)\n",
    "        else:\n",
    "            ax2 = ax.twinx()\n",
    "            lines.append(ax2.plot(x, y, label=col, color='red'))\n",
    "            _ = ax2.fill_between(x, y - std, y + std, alpha=0.3)\n",
    "\n",
    "    # Adding legend all in one box\n",
    "    lines = lines[0] + lines[1] + lines[2]\n",
    "    labels = [\"l.get_label() for l in lines\"]\n",
    "    labels = [label.split(\"_\")[-1].upper() for label in mean_df.columns] # Extracting the metric name\n",
    "    ax.legend(lines, labels, loc=(0.05,0.05))\n",
    "\n",
    "    # Adding labels and title\n",
    "    ax.set_xlabel(r'Annotation Selection Threshold ($\\alpha$)')\n",
    "    ax.set_ylabel(r'PCC/CCC Metrics (Mean $\\pm$ SD)')\n",
    "    ax2.set_ylabel(r'RMSE (Mean $\\pm$ SD)')\n",
    "\n",
    "    ax.axvline(x=0, color='green', linestyle='--')\n",
    "    ax.text(0.2, 0.34, 'LLM', color='green', rotation=90, fontsize=9)\n",
    "\n",
    "    ax.axvline(x=len(mean_df) - 1, color='red', linestyle='--')\n",
    "    ax.text(11.5, 0.47, 'Crowdsourced', color='red', rotation=90, fontsize=10)\n",
    "\n",
    "    plt.savefig(os.path.join(parend_dir, \"val-metrics_vs_alpha.pdf\"), bbox_inches='tight')"
   ]
  },
  {
   "cell_type": "code",
   "execution_count": null,
   "metadata": {},
   "outputs": [],
   "source": [
    "plot_metrics_vs_alpha(\"logs/20241030_091522_LLMGEm+2023-and-2022\")"
   ]
  },
  {
   "cell_type": "code",
   "execution_count": null,
   "metadata": {},
   "outputs": [],
   "source": []
  }
 ],
 "metadata": {
  "kernelspec": {
   "display_name": "Python 3",
   "language": "python",
   "name": "python3"
  },
  "language_info": {
   "codemirror_mode": {
    "name": "ipython",
    "version": 3
   },
   "file_extension": ".py",
   "mimetype": "text/x-python",
   "name": "python",
   "nbconvert_exporter": "python",
   "pygments_lexer": "ipython3",
   "version": "3.12.3"
  }
 },
 "nbformat": 4,
 "nbformat_minor": 2
}
